{
 "metadata": {
  "name": "",
  "signature": "sha256:c3e167103b0337615effa847a2ae82c5934af44c36a1ca2968b2a3ba9a6e3ddc"
 },
 "nbformat": 3,
 "nbformat_minor": 0,
 "worksheets": [
  {
   "cells": [
    {
     "cell_type": "code",
     "collapsed": false,
     "input": [
      "import numpy as np\n",
      "import matplotlib.pyplot as plt\n",
      "import pandas as pd\n",
      "import sys\n",
      "import csv\n",
      "from datetime import datetime\n",
      "\n",
      "### settings (ipython notebook)\n",
      "%matplotlib inline"
     ],
     "language": "python",
     "metadata": {},
     "outputs": [],
     "prompt_number": 1
    },
    {
     "cell_type": "code",
     "collapsed": false,
     "input": [
      "data_file = sys.argv[1]\n",
      "data_file = \"actions-fall-2007.dat\""
     ],
     "language": "python",
     "metadata": {},
     "outputs": [],
     "prompt_number": 2
    },
    {
     "cell_type": "code",
     "collapsed": false,
     "input": [
      "# subs = []\n",
      "# with open(data_file, 'r') as f:\n",
      "#     reader = csv.reader(f)\n",
      "#     reader.next()\n",
      "#     for line in reader:\n",
      "#         subs.append(datetime.strptime(line[0], \"%Y-%m-%d %H:%M:%S\"))\n",
      "        \n",
      "        "
     ],
     "language": "python",
     "metadata": {},
     "outputs": [],
     "prompt_number": 3
    },
    {
     "cell_type": "code",
     "collapsed": false,
     "input": [
      "with open(data_file, 'r') as f:\n",
      "    submissions = pd.read_csv(f, parse_dates=['timestamp'])"
     ],
     "language": "python",
     "metadata": {},
     "outputs": [],
     "prompt_number": 4
    },
    {
     "cell_type": "code",
     "collapsed": false,
     "input": [
      "grouped = submissions.groupby(submissions['timestamp'])\n",
      "subs = grouped.count()\n",
      "subs = subs.resample('4H', how = 'sum')"
     ],
     "language": "python",
     "metadata": {},
     "outputs": [],
     "prompt_number": 5
    },
    {
     "cell_type": "code",
     "collapsed": false,
     "input": [],
     "language": "python",
     "metadata": {},
     "outputs": [],
     "prompt_number": 78
    },
    {
     "cell_type": "code",
     "collapsed": false,
     "input": [
      "width = 1.0/6\n",
      "\n",
      "fig, ax = plt.subplots(figsize = (20, 6))\n",
      "firstSub = subs.index[0]\n",
      "lastSub = subs.index[-1]\n",
      "color = \"#BA5D25\"\n",
      "ax.bar(subs.index, height = subs.timestamp, width = width, lw = 0, color = color)\n",
      "\n",
      "### annotations\n",
      "fig.suptitle(\", Fall 2007 assignment submissions\", fontsize = 14)\n",
      "ax.set_ylabel(\"Number of submissions\")\n",
      "### ticks\n",
      "xticks = [\"2007-09-18 12:00:00\", \"2007-10-04 12:00:00\",\n",
      "         \"2007-10-25 12:00:00\", \"2007-11-27 12:00:00\",\n",
      "         \"2007-12-15 12:00:00\", \"2007-12-11 12:00:00\"]\n",
      "xtickAssignNum = [x for x in range(1, len(xticks) + 1)]\n",
      "xticklabels = [xticks[i][5:11] + xticks[i][11:19] + \"\\n\" + \"Assign #\" + str(xtickAssignNum[i]) for i in range(len(xticks))]\n",
      "ax.set_xticks(xticks)\n",
      "ax.set_xticklabels(xticklabels, rotation = 90, horizontalalignment='right')\n",
      "ax.grid()\n",
      "# ax.xaxis.set_ticks_position('bottom')\n",
      "# ax.yaxis.set_ticks_position('left')\n",
      "plt.show()\n"
     ],
     "language": "python",
     "metadata": {},
     "outputs": [
      {
       "metadata": {},
       "output_type": "display_data",
       "png": "[encoded data removed]",
       "text": [
        "<matplotlib.figure.Figure at 0x10f4983d0>"
       ]
      }
     ],
     "prompt_number": 117
    },
    {
     "cell_type": "heading",
     "level": 6,
     "metadata": {},
     "source": [
      "Problem 2a"
     ]
    },
    {
     "cell_type": "code",
     "collapsed": false,
     "input": [
      "x = [np.random.randn() for x in range(40000)]\n",
      "fig, ax = plt.subplots(figsize = (10, 6))\n",
      "#ax.hist(subs)\n",
      "plt.show()"
     ],
     "language": "python",
     "metadata": {},
     "outputs": [
      {
       "metadata": {},
       "output_type": "display_data",
       "png": "[encoded data removed]",
       "text": [
        "<matplotlib.figure.Figure at 0x10e830d90>"
       ]
      }
     ],
     "prompt_number": 43
    },
    {
     "cell_type": "code",
     "collapsed": false,
     "input": [
      "A = 500\n",
      "print (submissions.timestamp[A] - submissions.timestamp[0]).days\n",
      "print submissions.timestamp[A]\n",
      "print submissions.timestamp[0]\n",
      "\n",
      "#grouped = submissions['timestamp'].groupby(lambda x: str(submissions.timestamp[x].date()))"
     ],
     "language": "python",
     "metadata": {},
     "outputs": [
      {
       "output_type": "stream",
       "stream": "stdout",
       "text": [
        "-3\n",
        "2007-09-13 20:39:22\n",
        "2007-09-15 21:24:56\n"
       ]
      }
     ],
     "prompt_number": 112
    },
    {
     "cell_type": "code",
     "collapsed": false,
     "input": [
      "grouped.count()"
     ],
     "language": "python",
     "metadata": {},
     "outputs": [
      {
       "metadata": {},
       "output_type": "pyout",
       "prompt_number": 85,
       "text": [
        "2007-09-10    151\n",
        "2007-09-11    493\n",
        "2007-09-12    390\n",
        "2007-09-13    906\n",
        "2007-09-14    775\n",
        "2007-09-15    383\n",
        "2007-09-16    546\n",
        "2007-09-17    952\n",
        "2007-09-18    343\n",
        "2007-09-19     81\n",
        "2007-09-20     29\n",
        "2007-09-21    297\n",
        "2007-09-23    479\n",
        "2007-09-24     25\n",
        "2007-09-25    101\n",
        "...\n",
        "2007-11-28    1439\n",
        "2007-11-29    1765\n",
        "2007-11-30     131\n",
        "2007-12-05      72\n",
        "2007-12-06     646\n",
        "2007-12-07    2024\n",
        "2007-12-08    5121\n",
        "2007-12-09    5721\n",
        "2007-12-10    8962\n",
        "2007-12-11    7712\n",
        "2007-12-12    2553\n",
        "2007-12-13    3259\n",
        "2007-12-14    4687\n",
        "2007-12-15    6930\n",
        "2007-12-17     267\n",
        "Name: timestamp, Length: 68, dtype: int64"
       ]
      }
     ],
     "prompt_number": 85
    },
    {
     "cell_type": "code",
     "collapsed": false,
     "input": [
      "plt.bar(range(len(grouped.count())), grouped.count())"
     ],
     "language": "python",
     "metadata": {},
     "outputs": [
      {
       "metadata": {},
       "output_type": "pyout",
       "prompt_number": 90,
       "text": [
        "<Container object of 68 artists>"
       ]
      },
      {
       "metadata": {},
       "output_type": "display_data",
       "png": "[encoded data removed]",
       "text": [
        "<matplotlib.figure.Figure at 0x110c65690>"
       ]
      }
     ],
     "prompt_number": 90
    },
    {
     "cell_type": "code",
     "collapsed": false,
     "input": [
      "str(submissions.timestamp[0].date())"
     ],
     "language": "python",
     "metadata": {},
     "outputs": [
      {
       "metadata": {},
       "output_type": "pyout",
       "prompt_number": 78,
       "text": [
        "'2007-09-15'"
       ]
      }
     ],
     "prompt_number": 78
    },
    {
     "cell_type": "code",
     "collapsed": false,
     "input": [
      "rng = pd.date_range(start = '1/1/2011', periods=72, freq='H')\n",
      "for d in rng:\n",
      "    print d"
     ],
     "language": "python",
     "metadata": {},
     "outputs": [
      {
       "output_type": "stream",
       "stream": "stdout",
       "text": [
        "2011-01-01 00:00:00\n",
        "2011-01-01 01:00:00\n",
        "2011-01-01 02:00:00\n",
        "2011-01-01 03:00:00\n",
        "2011-01-01 04:00:00\n",
        "2011-01-01 05:00:00\n",
        "2011-01-01 06:00:00\n",
        "2011-01-01 07:00:00\n",
        "2011-01-01 08:00:00\n",
        "2011-01-01 09:00:00\n",
        "2011-01-01 10:00:00\n",
        "2011-01-01 11:00:00\n",
        "2011-01-01 12:00:00\n",
        "2011-01-01 13:00:00\n",
        "2011-01-01 14:00:00\n",
        "2011-01-01 15:00:00\n",
        "2011-01-01 16:00:00\n",
        "2011-01-01 17:00:00\n",
        "2011-01-01 18:00:00\n",
        "2011-01-01 19:00:00\n",
        "2011-01-01 20:00:00\n",
        "2011-01-01 21:00:00\n",
        "2011-01-01 22:00:00\n",
        "2011-01-01 23:00:00\n",
        "2011-01-02 00:00:00\n",
        "2011-01-02 01:00:00\n",
        "2011-01-02 02:00:00\n",
        "2011-01-02 03:00:00\n",
        "2011-01-02 04:00:00\n",
        "2011-01-02 05:00:00\n",
        "2011-01-02 06:00:00\n",
        "2011-01-02 07:00:00\n",
        "2011-01-02 08:00:00\n",
        "2011-01-02 09:00:00\n",
        "2011-01-02 10:00:00\n",
        "2011-01-02 11:00:00\n",
        "2011-01-02 12:00:00\n",
        "2011-01-02 13:00:00\n",
        "2011-01-02 14:00:00\n",
        "2011-01-02 15:00:00\n",
        "2011-01-02 16:00:00\n",
        "2011-01-02 17:00:00\n",
        "2011-01-02 18:00:00\n",
        "2011-01-02 19:00:00\n",
        "2011-01-02 20:00:00\n",
        "2011-01-02 21:00:00\n",
        "2011-01-02 22:00:00\n",
        "2011-01-02 23:00:00\n",
        "2011-01-03 00:00:00\n",
        "2011-01-03 01:00:00\n",
        "2011-01-03 02:00:00\n",
        "2011-01-03 03:00:00\n",
        "2011-01-03 04:00:00\n",
        "2011-01-03 05:00:00\n",
        "2011-01-03 06:00:00\n",
        "2011-01-03 07:00:00\n",
        "2011-01-03 08:00:00\n",
        "2011-01-03 09:00:00\n",
        "2011-01-03 10:00:00\n",
        "2011-01-03 11:00:00\n",
        "2011-01-03 12:00:00\n",
        "2011-01-03 13:00:00\n",
        "2011-01-03 14:00:00\n",
        "2011-01-03 15:00:00\n",
        "2011-01-03 16:00:00\n",
        "2011-01-03 17:00:00\n",
        "2011-01-03 18:00:00\n",
        "2011-01-03 19:00:00\n",
        "2011-01-03 20:00:00\n",
        "2011-01-03 21:00:00\n",
        "2011-01-03 22:00:00\n",
        "2011-01-03 23:00:00\n"
       ]
      }
     ],
     "prompt_number": 110
    },
    {
     "cell_type": "code",
     "collapsed": false,
     "input": [
      "pd.date_range?"
     ],
     "language": "python",
     "metadata": {},
     "outputs": [],
     "prompt_number": 139
    },
    {
     "cell_type": "code",
     "collapsed": false,
     "input": [
      "?ax.set_xticklabels()"
     ],
     "language": "python",
     "metadata": {},
     "outputs": [],
     "prompt_number": 115
    },
    {
     "cell_type": "code",
     "collapsed": false,
     "input": [],
     "language": "python",
     "metadata": {},
     "outputs": []
    }
   ],
   "metadata": {}
  }
 ]
}