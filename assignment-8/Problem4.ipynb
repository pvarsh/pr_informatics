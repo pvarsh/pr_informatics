{
 "metadata": {
  "name": "",
  "signature": "sha256:2aaedf1fd35259fffc570fe922adbbdef9c6a3af7484cbb3f4561defe24b8009"
 },
 "nbformat": 3,
 "nbformat_minor": 0,
 "worksheets": [
  {
   "cells": [
    {
     "cell_type": "code",
     "collapsed": false,
     "input": [
      "from matplotlib import pyplot as plt\n",
      "import numpy as np\n",
      "import pandas as pd\n",
      "import statsmodels.api as sm\n",
      "import sys\n",
      "\n",
      "#%matplotlib inline"
     ],
     "language": "python",
     "metadata": {},
     "outputs": [],
     "prompt_number": 1
    },
    {
     "cell_type": "code",
     "collapsed": false,
     "input": [
      "datafile = \"genes.dat\"\n",
      "if len(sys.argv) == 2:\n",
      "    datafile = sys.argv[1]\n",
      "with open(datafile, 'r') as f:\n",
      "    genes = pd.read_csv(datafile)"
     ],
     "language": "python",
     "metadata": {},
     "outputs": [],
     "prompt_number": 2
    },
    {
     "cell_type": "code",
     "collapsed": false,
     "input": [
      "fig, axs = plt.subplots(nrows = 4, ncols = 4, figsize = (10, 10))\n",
      "\n",
      "cPoint = \"#52B8E0\"\n",
      "cLine = \"#D19047\"\n",
      "\n",
      "for i, row in enumerate(genes.columns):\n",
      "    for j, col in enumerate(genes.columns):\n",
      "        axs[j][i].scatter(genes[row], genes[col], c = cPoint)\n",
      "        print axs[j][i].get_xticklabels()\n",
      "        if j != 3:\n",
      "            axs[j][i].set_xticklabels('')\n",
      "        if i != 0:\n",
      "            axs[j][i].set_yticklabels('')\n",
      "        if j == 0:\n",
      "            axs[j][i].xaxis.set_label_position('top')\n",
      "            axs[j][i].set_xlabel(row)\n",
      "        if i == 3:\n",
      "            axs[j][i].yaxis.set_label_position('right')\n",
      "            axs[j][i].set_ylabel(col, rotation = 'horizontal')#, bbox = [1,1])\n",
      "\n",
      "poly_C = np.poly1d(np.polyfit(genes.C, genes.A, 1))\n",
      "xC = np.linspace(-.1, 1.1)\n",
      "axs[0][2].plot(xC, poly_C(xC), '-', lw = 3, c = cLine)            \n",
      "            \n",
      "poly_D = np.poly1d(np.polyfit(genes.D, genes.A, 3))\n",
      "xD = np.linspace(-.1, 1.1)\n",
      "axs[0][3].plot(xD, poly_D(xD), '-', lw = 3, c = cLine)\n",
      "\n",
      "poly_B = np.poly1d(np.polyfit(genes.B, genes.A, 5))\n",
      "xB = np.linspace(-.1, 1.1)\n",
      "axs[0][1].plot(xB, poly_B(xB), '-', lw = 3, c = cLine)\n",
      "\n",
      "for ind, val in np.ndenumerate(axs):\n",
      "    axs[ind].set_xlim((-.1, 1.1))\n",
      "    axs[ind].set_ylim((-.1, 1.1))\n",
      "\n",
      "plt.subplots_adjust(left=None, bottom=None, right=None, top=None, wspace=.1, hspace=.1)\n",
      "plt.show()"
     ],
     "language": "python",
     "metadata": {},
     "outputs": [
      {
       "output_type": "stream",
       "stream": "stdout",
       "text": [
        "<a list of 9 Text xticklabel objects>\n",
        "<a list of 9 Text xticklabel objects>\n",
        "<a list of 9 Text xticklabel objects>\n",
        "<a list of 9 Text xticklabel objects>\n",
        "<a list of 9 Text xticklabel objects>\n",
        "<a list of 9 Text xticklabel objects>"
       ]
      },
      {
       "output_type": "stream",
       "stream": "stdout",
       "text": [
        "\n",
        "<a list of 9 Text xticklabel objects>\n",
        "<a list of 9 Text xticklabel objects>"
       ]
      },
      {
       "output_type": "stream",
       "stream": "stdout",
       "text": [
        "\n",
        "<a list of 9 Text xticklabel objects>\n",
        "<a list of 9 Text xticklabel objects>"
       ]
      },
      {
       "output_type": "stream",
       "stream": "stdout",
       "text": [
        "\n",
        "<a list of 9 Text xticklabel objects>\n",
        "<a list of 9 Text xticklabel objects>"
       ]
      },
      {
       "output_type": "stream",
       "stream": "stdout",
       "text": [
        "\n",
        "<a list of 8 Text xticklabel objects>\n",
        "<a list of 8 Text xticklabel objects>\n",
        "<a list of 8 Text xticklabel objects>"
       ]
      },
      {
       "output_type": "stream",
       "stream": "stdout",
       "text": [
        "\n",
        "<a list of 8 Text xticklabel objects>\n"
       ]
      }
     ],
     "prompt_number": 5
    },
    {
     "cell_type": "code",
     "collapsed": false,
     "input": [
      "pd.scatter_matrix(genes, alpha=0.2, figsize=(8, 8), diagonal='kde');"
     ],
     "language": "python",
     "metadata": {},
     "outputs": [],
     "prompt_number": 4
    },
    {
     "cell_type": "code",
     "collapsed": false,
     "input": [],
     "language": "python",
     "metadata": {},
     "outputs": []
    }
   ],
   "metadata": {}
  }
 ]
}