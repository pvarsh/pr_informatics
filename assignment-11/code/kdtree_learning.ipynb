{
 "metadata": {
  "name": "",
  "signature": "sha256:355362f6a82888a9359db254160ebb9fbc82fa2d70b38858bfeb5608c44f6935"
 },
 "nbformat": 3,
 "nbformat_minor": 0,
 "worksheets": [
  {
   "cells": [
    {
     "cell_type": "code",
     "collapsed": false,
     "input": [
      "import scipy.spatial as sps\n",
      "import numpy as np"
     ],
     "language": "python",
     "metadata": {},
     "outputs": [],
     "prompt_number": 1
    },
    {
     "cell_type": "code",
     "collapsed": false,
     "input": [
      "x = np.random.randn(10, 2)\n",
      "x = [[a,b] for a,b in x]\n",
      "tree = sps.KDTree(x)\n",
      "\n",
      "y = np.array([0,0])\n",
      "print tree.query(y)\n",
      "# for point in x:\n",
      "#     print np.linalg.norm(point)"
     ],
     "language": "python",
     "metadata": {},
     "outputs": [
      {
       "output_type": "stream",
       "stream": "stdout",
       "text": [
        "(0.20821060814952039, 9)\n"
       ]
      }
     ],
     "prompt_number": 14
    },
    {
     "cell_type": "code",
     "collapsed": false,
     "input": [
      "print type(tree.query_ball_point(y, r = 0.5))"
     ],
     "language": "python",
     "metadata": {},
     "outputs": [
      {
       "output_type": "stream",
       "stream": "stdout",
       "text": [
        "<type 'list'>\n"
       ]
      }
     ],
     "prompt_number": 16
    },
    {
     "cell_type": "code",
     "collapsed": false,
     "input": [
      "z = np.random.randn(10, 4)\n",
      "z"
     ],
     "language": "python",
     "metadata": {},
     "outputs": [
      {
       "metadata": {},
       "output_type": "pyout",
       "prompt_number": 21,
       "text": [
        "array([[ 0.81182614,  1.07368132, -0.72509564, -1.18561261],\n",
        "       [-0.27963423, -0.36531757,  0.50094002,  0.62269511],\n",
        "       [ 0.59164563, -0.60194535, -0.97110303,  0.06859402],\n",
        "       [-0.23654285, -1.38264751, -2.25652823,  0.87350045],\n",
        "       [-0.61243861, -1.01567541, -0.81674267, -1.01390889],\n",
        "       [ 0.76213227, -0.27495914,  1.71374533, -0.3361098 ],\n",
        "       [ 0.1894028 ,  0.09888154, -0.13025745,  0.66588889],\n",
        "       [-1.08869295, -0.33123913, -0.53705185, -0.54635485],\n",
        "       [-0.40220914,  0.17373492,  0.10648397,  0.97370846],\n",
        "       [-0.18478964,  1.20659469, -0.19031463, -0.61486319]])"
       ]
      }
     ],
     "prompt_number": 21
    },
    {
     "cell_type": "code",
     "collapsed": false,
     "input": [
      "z[0:, 0:]"
     ],
     "language": "python",
     "metadata": {},
     "outputs": [
      {
       "metadata": {},
       "output_type": "pyout",
       "prompt_number": 30,
       "text": [
        "array([[ 0.81182614,  1.07368132, -0.72509564, -1.18561261],\n",
        "       [-0.27963423, -0.36531757,  0.50094002,  0.62269511],\n",
        "       [ 0.59164563, -0.60194535, -0.97110303,  0.06859402],\n",
        "       [-0.23654285, -1.38264751, -2.25652823,  0.87350045],\n",
        "       [-0.61243861, -1.01567541, -0.81674267, -1.01390889],\n",
        "       [ 0.76213227, -0.27495914,  1.71374533, -0.3361098 ],\n",
        "       [ 0.1894028 ,  0.09888154, -0.13025745,  0.66588889],\n",
        "       [-1.08869295, -0.33123913, -0.53705185, -0.54635485],\n",
        "       [-0.40220914,  0.17373492,  0.10648397,  0.97370846],\n",
        "       [-0.18478964,  1.20659469, -0.19031463, -0.61486319]])"
       ]
      }
     ],
     "prompt_number": 30
    },
    {
     "cell_type": "code",
     "collapsed": false,
     "input": [
      "x = range(10)\n",
      "y = range(10, 20)\n",
      "z = [[a, b] for a, b in zip(x,y)]\n"
     ],
     "language": "python",
     "metadata": {},
     "outputs": [],
     "prompt_number": 8
    },
    {
     "cell_type": "code",
     "collapsed": false,
     "input": [
      "print z\n",
      "a, b = [list(_) for _ in zip(*z)]"
     ],
     "language": "python",
     "metadata": {},
     "outputs": [
      {
       "output_type": "stream",
       "stream": "stdout",
       "text": [
        "[[0, 10], [1, 11], [2, 12], [3, 13], [4, 14], [5, 15], [6, 16], [7, 17], [8, 18], [9, 19]]\n"
       ]
      }
     ],
     "prompt_number": 13
    },
    {
     "cell_type": "code",
     "collapsed": false,
     "input": [
      "a"
     ],
     "language": "python",
     "metadata": {},
     "outputs": [
      {
       "metadata": {},
       "output_type": "pyout",
       "prompt_number": 14,
       "text": [
        "[0, 1, 2, 3, 4, 5, 6, 7, 8, 9]"
       ]
      }
     ],
     "prompt_number": 14
    },
    {
     "cell_type": "code",
     "collapsed": false,
     "input": [],
     "language": "python",
     "metadata": {},
     "outputs": []
    }
   ],
   "metadata": {}
  }
 ]
}