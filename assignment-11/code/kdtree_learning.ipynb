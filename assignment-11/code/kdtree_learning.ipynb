{
 "metadata": {
  "name": "",
  "signature": "sha256:53e51dfeea173093ab5445cf4a89c8f2ac278b130e69b6de0e3eea00f643990d"
 },
 "nbformat": 3,
 "nbformat_minor": 0,
 "worksheets": [
  {
   "cells": [
    {
     "cell_type": "code",
     "collapsed": false,
     "input": [
      "import scipy.spatial as sps\n",
      "import numpy as np"
     ],
     "language": "python",
     "metadata": {},
     "outputs": [],
     "prompt_number": 1
    },
    {
     "cell_type": "code",
     "collapsed": false,
     "input": [
      "x = np.random.randn(10, 2)\n",
      "x = [[a,b] for a,b in x]\n",
      "tree = sps.KDTree(x)\n",
      "\n",
      "\n",
      "y = np.array([0,0])\n",
      "print tree.query(y)\n",
      "for point in x:\n",
      "    print np.linalg.norm(point)"
     ],
     "language": "python",
     "metadata": {},
     "outputs": [
      {
       "output_type": "stream",
       "stream": "stdout",
       "text": [
        "(0.53620567891275772, 3)\n",
        "2.58976736819\n",
        "1.06409568654\n",
        "2.10390611316\n",
        "0.536205678913\n",
        "1.36738002177\n",
        "0.650487012449\n",
        "1.02061836044\n",
        "1.25006929493\n",
        "0.699445037568\n",
        "2.46908251619\n"
       ]
      }
     ],
     "prompt_number": 5
    },
    {
     "cell_type": "code",
     "collapsed": false,
     "input": [
      "print x"
     ],
     "language": "python",
     "metadata": {},
     "outputs": [
      {
       "output_type": "stream",
       "stream": "stdout",
       "text": [
        "[[-2.5724719593685239, -0.2988026767245418], [-0.19557683180739613, -1.045968131909963], [2.1021959232896039, -0.084812930118544447], [0.30960080104370852, 0.43779432852811767], [0.14826515954521027, -1.3593180519706733], [-0.56715811550358763, 0.31853575212742824], [0.31063516555438858, -0.97219732132672665], [0.12928117177830753, 1.2433662456213617], [0.3421397724405989, 0.61005224095411192], [-1.2313647627076238, 2.140118990360937]]\n"
       ]
      }
     ],
     "prompt_number": 6
    },
    {
     "cell_type": "code",
     "collapsed": false,
     "input": [],
     "language": "python",
     "metadata": {},
     "outputs": [],
     "prompt_number": 31
    },
    {
     "cell_type": "code",
     "collapsed": false,
     "input": [],
     "language": "python",
     "metadata": {},
     "outputs": []
    }
   ],
   "metadata": {}
  }
 ]
}