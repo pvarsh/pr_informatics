{
 "metadata": {
  "name": "",
  "signature": "sha256:5de68b402e9d8439cb48b18dbab891e3ee61e9fc4a2782de6d07e3c2bee165d9"
 },
 "nbformat": 3,
 "nbformat_minor": 0,
 "worksheets": [
  {
   "cells": [
    {
     "cell_type": "code",
     "collapsed": false,
     "input": [
      "import pandas as pd\n",
      "import numpy as np\n",
      "import matplotlib.pyplot as plt\n",
      "\n",
      "#%matplotlib inline\n",
      "#plt.style.use('ggplot')\n"
     ],
     "language": "python",
     "metadata": {},
     "outputs": [],
     "prompt_number": 1
    },
    {
     "cell_type": "code",
     "collapsed": false,
     "input": [
      "fileIn = \"data/311_Service_Requests_from_2010_to_Present_2014.csv\"\n",
      "with open(fileIn, 'r') as f:\n",
      "    df = pd.read_csv(f,\n",
      "                     index_col = [u'Borough', u'Created Date'],\n",
      "                     usecols = [u'Unique Key', u'Created Date', u'Borough'],\n",
      "                     parse_dates = [u'Created Date'])"
     ],
     "language": "python",
     "metadata": {},
     "outputs": [],
     "prompt_number": 2
    },
    {
     "cell_type": "code",
     "collapsed": false,
     "input": [
      "#boroughs = list(df.index.levels[0])\n",
      "boroughs = ['BRONX', 'BROOKLYN', 'MANHATTAN', 'QUEENS', 'STATEN ISLAND']\n",
      "\n",
      "dfCounts = pd.DataFrame(index = df.index.levels[1])\n",
      "for borough in boroughs:\n",
      "    dfCounts[borough] = df[u'Unique Key'][borough].resample('D', how = 'count')\n",
      "dfCounts = dfCounts[pd.notnull(dfCounts.BRONX)]"
     ],
     "language": "python",
     "metadata": {},
     "outputs": [],
     "prompt_number": 3
    },
    {
     "cell_type": "code",
     "collapsed": false,
     "input": [
      "p1 = dfCounts.plot(figsize = (10, 6), lw = 1.4)\n",
      "plt.show()"
     ],
     "language": "python",
     "metadata": {},
     "outputs": [],
     "prompt_number": 7
    }
   ],
   "metadata": {}
  }
 ]
}