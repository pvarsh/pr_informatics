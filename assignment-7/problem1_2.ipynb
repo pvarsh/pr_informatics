{
 "metadata": {
  "name": "",
  "signature": "sha256:defac251da3af6a847bf1cdb1f2232e662761ece10c70621783e871061f52971"
 },
 "nbformat": 3,
 "nbformat_minor": 0,
 "worksheets": [
  {
   "cells": [
    {
     "cell_type": "code",
     "collapsed": false,
     "input": [
      "import numpy as np\n",
      "from matplotlib import pyplot as plt\n",
      "import pylab\n",
      "import pandas as pd\n",
      "from datetime import datetime\n",
      "import sys\n",
      "import matplotlib.cm as cm\n",
      "import re\n",
      "\n",
      "### settings\n",
      "%matplotlib inline"
     ],
     "language": "python",
     "metadata": {},
     "outputs": [],
     "prompt_number": 7
    },
    {
     "cell_type": "heading",
     "level": 6,
     "metadata": {},
     "source": [
      "Functions"
     ]
    },
    {
     "cell_type": "code",
     "collapsed": false,
     "input": [
      "def top_k_types(df, k):\n",
      "    \"\"\" returns a series of top k complaint types \"\"\"\n",
      "    grouped = df['Complaint Type'].groupby(df['Complaint Type'])\n",
      "    complaints = grouped.count().sort(inplace = False, ascending = False)\n",
      "    return complaints[0:k]\n",
      "\n",
      "def top_k_agencies(df, k):\n",
      "    \"\"\" returns a series of top k agencies by number of complaints \"\"\"\n",
      "    grouped = df['Agency'].groupby(df['Agency'])\n",
      "    complaints = grouped.count().sort(inplace = False, ascending = False)\n",
      "    return list(complaints.keys())[0:k]\n",
      "\n",
      "def get_first_monday(dates):\n",
      "    \"\"\" returns the index of the first monday in a list of dates \"\"\"\n",
      "    return 7%dates[0].weekday()\n",
      "\n",
      "def complaint_tseries_agency(df, agencies):\n",
      "    \"\"\" plots something \"\"\"\n",
      "    dates = list( ag_date_counts.keys().levels[1] )\n",
      "    first_monday = get_first_monday(dates)\n",
      "    num_weeks = len(dates)/7\n",
      "    print num_weeks\n",
      "    xticks = [first_monday + 7 * x for x in range(num_weeks)]\n",
      "    fig, ax = subplots(figsize = (10, 5))\n",
      "    print type(ag_date_counts.keys())\n",
      "    colors = list(np.linspace(0, 1, len(agencies) + 2))[1:-1]\n",
      "    print colors\n",
      "    for i, agency in enumerate(agencies):\n",
      "        ax.plot(ag_date_counts[agency], c = cm.Set1(colors[i]), label = agency)\n",
      "    ax.set_xlabel(\"Date\")\n",
      "    ax.set_ylabel(\"Number of complaints\")\n",
      "    ax.grid(b=True, which='major', axis = 'x', color='gray', linestyle='--')\n",
      "    ax.legend(loc = 'best')\n",
      "    ax.set_xticks(xticks)\n",
      "    ticklabels = [datetime.strftime(dates[xtick], \"%m/%d\") for xtick in xticks]\n",
      "    ax.set_xticklabels(ticklabels)\n",
      "    daterange = (datetime.strftime(dates[0], \"%m/%d/%Y\"), datetime.strftime(dates[-1], \"%m/%d/%Y\"))\n",
      "    ax.set_title(\"Complaint volumes by agency %s - %s\" %daterange)\n",
      "    plt.show()"
     ],
     "language": "python",
     "metadata": {},
     "outputs": [],
     "prompt_number": 2
    },
    {
     "cell_type": "code",
     "collapsed": false,
     "input": [
      "### read data\n",
      "### reading is slow due to parsing two columns as datetime\n",
      "in_file = \"311_Service_Requests_from_2010_to_Present.csv\"\n",
      "with open(in_file, 'r') as f:\n",
      "    df = pd.read_csv(f,\n",
      "                     index_col = ['Unique Key'],\n",
      "                     dtype = {'Incident Zip': str})\n",
      "                     #parse_dates=['Created Date','Closed Date'])"
     ],
     "language": "python",
     "metadata": {},
     "outputs": [],
     "prompt_number": 3
    },
    {
     "cell_type": "heading",
     "level": 6,
     "metadata": {},
     "source": [
      "Min and max dates"
     ]
    },
    {
     "cell_type": "code",
     "collapsed": false,
     "input": [
      "### Use this block if dates are parsed in data frame\n",
      "# datemin = min(df['Created Date'])\n",
      "# datemax = max(df['Created Date'])\n",
      "# datemin_str = datetime.strftime(datemin, \"%b/%d/%Y\")\n",
      "# datemax_str = datetime.strftime(datemax, \"%b/%d/%Y\")\n",
      "datemin_str = \"Jun/01/2013\"\n",
      "datemax_str = \"Aug/31/2013\""
     ],
     "language": "python",
     "metadata": {},
     "outputs": [],
     "prompt_number": 4
    },
    {
     "cell_type": "heading",
     "level": 6,
     "metadata": {},
     "source": [
      "Grouping"
     ]
    },
    {
     "cell_type": "code",
     "collapsed": false,
     "input": [
      "#grouped = df['Agency'].groupby(df['Agency'])\n",
      "#pr1_1 = grouped.count()"
     ],
     "language": "python",
     "metadata": {},
     "outputs": [],
     "prompt_number": 5
    },
    {
     "cell_type": "heading",
     "level": 6,
     "metadata": {},
     "source": [
      "Problem 2"
     ]
    },
    {
     "cell_type": "code",
     "collapsed": false,
     "input": [
      "k = 6\n",
      "complaint_types = top_k_types(df, k)\n",
      "print list(complaint_types.keys())\n",
      "fig, ax = plt.subplots(figsize = (10, 5))\n",
      "xpos = [1*x for x in range(len(complaint_types))]\n",
      "plt.bar(xpos, complaint_types, align = 'center', width = .8, color = cm.Blues(0.4), zorder = 3)\n",
      "ax.set_title(\"Top %d complaint types %s-%s\" %(k, datemin_str, datemax_str))\n",
      "ax.set_xticks(xpos)\n",
      "lbls = list(complaint_types.keys())\n",
      "ax.set_xticklabels(complaint_types.keys(), fontsize = 7)\n",
      "ax.set_xlabel(\"Complaint Type\")\n",
      "ax.set_ylabel(\"Volume\")\n",
      "ax.grid(b=True, which='major', axis = 'y', color='gray', linestyle='--', alpha = 0.4, zorder = 0)\n",
      "ax.set_xlim(-.75, len(complaint_types)-.25)\n",
      "plt.show()"
     ],
     "language": "python",
     "metadata": {},
     "outputs": [
      {
       "output_type": "stream",
       "stream": "stdout",
       "text": [
        "['GENERAL CONSTRUCTION', 'Water System', 'PLUMBING', 'Street Light Condition', 'PAINT - PLASTER', 'Street Condition']\n"
       ]
      },
      {
       "metadata": {},
       "output_type": "display_data",
       "png": "[encoded data removed]",
       "text": [
        "<matplotlib.figure.Figure at 0x1038e9750>"
       ]
      }
     ],
     "prompt_number": 6
    }
   ],
   "metadata": {}
  }
 ]
}