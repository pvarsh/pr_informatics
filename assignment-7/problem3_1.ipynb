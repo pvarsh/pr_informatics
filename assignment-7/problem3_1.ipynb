{
 "metadata": {
  "name": "",
  "signature": "sha256:51483299326e527140ad8546ad0cefa35a15515b0d5d9cdcd4729cc5bfd5dd56"
 },
 "nbformat": 3,
 "nbformat_minor": 0,
 "worksheets": [
  {
   "cells": [
    {
     "cell_type": "code",
     "collapsed": false,
     "input": [
      "import numpy as np\n",
      "from matplotlib import pyplot as plt\n",
      "import pylab\n",
      "import pandas as pd\n",
      "from datetime import datetime\n",
      "import sys\n",
      "import matplotlib.cm as cm\n",
      "#import re\n",
      "import csv\n",
      "\n",
      "### settings\n",
      "%matplotlib inline"
     ],
     "language": "python",
     "metadata": {},
     "outputs": [],
     "prompt_number": 2
    },
    {
     "cell_type": "heading",
     "level": 6,
     "metadata": {},
     "source": [
      "Read 311 data"
     ]
    },
    {
     "cell_type": "code",
     "collapsed": false,
     "input": [
      "### read data\n",
      "### reading is slow due to parsing two columns as datetime\n",
      "in_file = \"311_Service_Requests_from_2010_to_Present.csv\"\n",
      "with open(in_file, 'r') as f:\n",
      "    df = pd.read_csv(f, index_col = ['Unique Key'], parse_dates=['Created Date', 'Closed Date'])"
     ],
     "language": "python",
     "metadata": {},
     "outputs": [
      {
       "output_type": "stream",
       "stream": "stderr",
       "text": [
        "/Users/petervarshavsky/Library/Enthought/Canopy_64bit/User/lib/python2.7/site-packages/pandas/io/parsers.py:1139: DtypeWarning: Columns (8) have mixed types. Specify dtype option on import or set low_memory=False.\n",
        "  data = self._reader.read(nrows)\n"
       ]
      }
     ],
     "prompt_number": 3
    },
    {
     "cell_type": "code",
     "collapsed": false,
     "input": [
      "### checking zips\n",
      "grouped_zip_311 = df['Incident Zip'].groupby(df['Incident Zip'])\n",
      "zip_counts = grouped_zip_311.count()\n",
      "zip_counts"
     ],
     "language": "python",
     "metadata": {},
     "outputs": [
      {
       "metadata": {},
       "output_type": "pyout",
       "prompt_number": 201,
       "text": [
        "Incident Zip\n",
        "1046            1\n",
        "2150            1\n",
        "6901            1\n",
        "7004            1\n",
        "7030            1\n",
        "7034            1\n",
        "7047            1\n",
        "7052            1\n",
        "7054            1\n",
        "7055            1\n",
        "7073            1\n",
        "7093            1\n",
        "7094            2\n",
        "7102            1\n",
        "7114            8\n",
        "...\n",
        "77077           1\n",
        "77082           1\n",
        "77842           1\n",
        "80111           1\n",
        "84604           2\n",
        "85008           1\n",
        "92123           3\n",
        "92704           1\n",
        "94566           1\n",
        "95476           3\n",
        "99999           1\n",
        "?               2\n",
        "NO IDEA         1\n",
        "UNK             2\n",
        "UNKNOWN         1\n",
        "Name: Incident Zip, Length: 611, dtype: int64"
       ]
      }
     ],
     "prompt_number": 201
    },
    {
     "cell_type": "heading",
     "level": 6,
     "metadata": {},
     "source": [
      "Read ZIP codes with populations data"
     ]
    },
    {
     "cell_type": "code",
     "collapsed": false,
     "input": [
      "zipcode_file = \"zipCodePopulationData.csv\"\n",
      "with open(zipcode_file, 'r') as f:\n",
      "    zipcodes = pd.read_csv(f)\n",
      "zipcodes['Zip Code ZCTA'] = zipcodes['Zip Code ZCTA'].astype(str).apply(lambda x: x.zfill(5))"
     ],
     "language": "python",
     "metadata": {},
     "outputs": [],
     "prompt_number": 212
    },
    {
     "cell_type": "heading",
     "level": 6,
     "metadata": {},
     "source": [
      "Clean zip codes"
     ]
    },
    {
     "cell_type": "code",
     "collapsed": false,
     "input": [
      "### Some of the deleted rows may be valid zip codes.\n",
      "### There were fewer than 20 rows containing ZIP+4 codes. They are deleted.\n",
      "print \"Dimension before cleaning:\", df.shape\n",
      "\n",
      "### removing zip codes less than 01000\n",
      "df[df['Incident Zip'] < 1000] = np.nan\n",
      "### removing zip codes of length greater than 7 when converted to string\n",
      "too_long = ( df['Incident Zip'].astype(str).apply(len) > 7 )\n",
      "df['Incident Zip'][too_long] = np.nan\n",
      "### removing rows with NaN\n",
      "df = df.dropna(axis = 0, subset = ['Incident Zip'])\n",
      "print \"Dimension after cleaning:\", df.shape\n",
      "### convert zip codes to integers\n",
      "#df['Incident Zip'].astype(float).astype(int)"
     ],
     "language": "python",
     "metadata": {},
     "outputs": [
      {
       "output_type": "stream",
       "stream": "stdout",
       "text": [
        "Dimension before cleaning: (390837, 51)\n",
        "Dimension after cleaning:"
       ]
      },
      {
       "output_type": "stream",
       "stream": "stdout",
       "text": [
        " (353899, 51)\n"
       ]
      }
     ],
     "prompt_number": 196
    },
    {
     "cell_type": "heading",
     "level": 6,
     "metadata": {},
     "source": [
      "Group by zip code"
     ]
    },
    {
     "cell_type": "code",
     "collapsed": false,
     "input": [
      "grouped_zip = df['Incident Zip'].groupby(df['Incident Zip'])\n",
      "zip_counts = grouped_zip.count()[0:-2]\n",
      "zip_counts = pd.DataFrame({'Incident Zip': zip_counts.keys(), 'Number of Complaints': zip_counts})\n",
      "zip_counts = zip_counts[0:-2]\n",
      "zip_counts['Incident Zip'] = zip_counts['Incident Zip'].astype(int).astype(str)\n",
      "zip_counts['Incident Zip'] = zip_counts['Incident Zip'].apply(lambda x: x.zfill(5))"
     ],
     "language": "python",
     "metadata": {},
     "outputs": [],
     "prompt_number": 219
    },
    {
     "cell_type": "heading",
     "level": 6,
     "metadata": {},
     "source": [
      "Merge"
     ]
    },
    {
     "cell_type": "code",
     "collapsed": false,
     "input": [
      "zip_pop_count = pd.merge(zipcodes, zip_counts, left_on ='Zip Code ZCTA', right_on='Incident Zip')\n",
      "zip_pop_count = zip_pop_count[['Incident Zip', '2010 Census Population', 'Number of Complaints']]\n",
      "zip_pop_count.columns = ['zip', 'population', 'complaints']"
     ],
     "language": "python",
     "metadata": {},
     "outputs": [],
     "prompt_number": 223
    },
    {
     "cell_type": "heading",
     "level": 6,
     "metadata": {},
     "source": [
      "Plot"
     ]
    },
    {
     "cell_type": "code",
     "collapsed": false,
     "input": [
      "fig, ax = plt.subplots(figsize = (10, 5))\n",
      "ax.scatter(zip_pop_count['population'], zip_pop_count['complaints'], lw = 0)\n",
      "ax.set_xlabel('2010 census population')\n",
      "ax.set_ylabel('Number of 311 complaints')\n",
      "ax.set_title('311 Complaints by Zip Code')\n",
      "plt.show()\n"
     ],
     "language": "python",
     "metadata": {},
     "outputs": [
      {
       "metadata": {},
       "output_type": "display_data",
       "png": "[encoded data removed]",
       "text": [
        "<matplotlib.figure.Figure at 0x138a01210>"
       ]
      }
     ],
     "prompt_number": 307
    },
    {
     "cell_type": "heading",
     "level": 6,
     "metadata": {},
     "source": [
      "0 or 1 complaints"
     ]
    },
    {
     "cell_type": "code",
     "collapsed": false,
     "input": [
      "print zip_pop_count[zip_pop_count['complaints'] == 1].shape\n",
      "print zip_pop_count[zip_pop_count['complaints'] == 0].shape\n",
      "print zip_pop_count[zip_pop_count['complaints'] == 1]"
     ],
     "language": "python",
     "metadata": {},
     "outputs": [
      {
       "output_type": "stream",
       "stream": "stdout",
       "text": [
        "(165, 3)\n",
        "(0, 3)\n",
        "       zip  population  complaints\n",
        "1    02150       35124           1\n",
        "3    06477       13956           1\n",
        "4    06901        6828           1\n",
        "5    07002       63031           1\n",
        "6    07004        7440           1\n",
        "7    07010       23594           1\n",
        "8    07020       11513           1\n",
        "9    07023        7318           1\n",
        "10   07024       35353           1\n",
        "11   07029       16026           1\n",
        "12   07030       50005           1\n",
        "14   07034        9360           1\n",
        "15   07036       41970           1\n",
        "16   07047       60773           1\n",
        "18   07052       46182           1\n",
        "19   07054       29305           1\n",
        "20   07055       69816           1\n",
        "21   07073        8913           1\n",
        "22   07087       66515           1\n",
        "23   07093       60884           1\n",
        "25   07094       16264           1\n",
        "26   07102       12579           1\n",
        "27   07102       12579           1\n",
        "31   07206       26636           1\n",
        "33   07302       36352           1\n",
        "34   07304       41233           1\n",
        "35   07305       60104           1\n",
        "36   07306       52669           1\n",
        "37   07307       43812           1\n",
        "39   07310       12838           1\n",
        "..     ...         ...         ...\n",
        "539  37214       28973           1\n",
        "540  43054       20566           1\n",
        "541  43614       29290           1\n",
        "542  46350       43650           1\n",
        "543  51101         809           1\n",
        "544  55120        4352           1\n",
        "545  55344       13952           1\n",
        "546  60068       37475           1\n",
        "547  60164       22048           1\n",
        "548  60181       28836           1\n",
        "549  60201       43125           1\n",
        "550  60201       43125           1\n",
        "551  63042       19602           1\n",
        "552  66212       32096           1\n",
        "553  74134       15083           1\n",
        "554  75019       38666           1\n",
        "555  75090       23724           1\n",
        "556  77036       71969           1\n",
        "557  77077       52151           1\n",
        "558  77082       49900           1\n",
        "559  78704       42117           1\n",
        "560  80111       28948           1\n",
        "561  84604       49145           1\n",
        "563  85008       56145           1\n",
        "564  91761       56913           1\n",
        "565  92123       26823           1\n",
        "567  92704       88123           1\n",
        "568  94566       40884           1\n",
        "569  94566       40884           1\n",
        "570  95476       35394           1\n",
        "\n",
        "[165 rows x 3 columns]\n"
       ]
      }
     ],
     "prompt_number": 234
    },
    {
     "cell_type": "heading",
     "level": 6,
     "metadata": {},
     "source": [
      "Read borough zips (downloaded from http://nyc.pediacities.com/New_York_City_ZIP_Codes)"
     ]
    },
    {
     "cell_type": "code",
     "collapsed": false,
     "input": [
      "zipbor_f = \"zip_borough.csv\"\n",
      "boroughs = sorted(['Bronx', 'Brooklyn', 'Manhattan', 'Queens', 'Staten Island'])\n",
      "boroughs = {borough: i+1 for i, borough in enumerate(boroughs)}\n",
      "\n",
      "with open(zipbor_f, 'rU') as f:\n",
      "    zipbor_d = {}\n",
      "    reader = csv.reader(f)\n",
      "    next(reader)\n",
      "    for row in reader:\n",
      "        zipbor_d[row[0]] = boroughs[row[1]]\n",
      "    \n",
      "    #zipbor = pd.read_csv(f)\n",
      "\n",
      "# ### list of boroughs\n",
      "# boroughs = sorted(['Bronx', 'Brooklyn', 'Manhattan', 'Queens', 'Staten Island'])\n",
      "# ### alphabetized dictionary of boroughs\n",
      "# boroughs = {borough: i+1 for i, borough in enumerate(boroughs)}\n",
      "# bor_codes = [boroughs[borough] for borough in zipbor['Borough']]\n",
      "# ### add column to bor_codes\n",
      "# zipbor['borcode'] = bor_codes"
     ],
     "language": "python",
     "metadata": {},
     "outputs": [
      {
       "metadata": {},
       "output_type": "pyout",
       "prompt_number": 257,
       "text": [
        "{'10001': 3,\n",
        " '10002': 3,\n",
        " '10003': 3,\n",
        " '10004': 3,\n",
        " '10005': 3,\n",
        " '10006': 3,\n",
        " '10007': 3,\n",
        " '10009': 3,\n",
        " '10010': 3,\n",
        " '10011': 3,\n",
        " '10012': 3,\n",
        " '10013': 3,\n",
        " '10014': 3,\n",
        " '10016': 3,\n",
        " '10017': 3,\n",
        " '10018': 3,\n",
        " '10019': 3,\n",
        " '10020': 3,\n",
        " '10021': 3,\n",
        " '10022': 3,\n",
        " '10023': 3,\n",
        " '10024': 3,\n",
        " '10025': 3,\n",
        " '10026': 3,\n",
        " '10027': 3,\n",
        " '10028': 3,\n",
        " '10029': 3,\n",
        " '10030': 3,\n",
        " '10031': 3,\n",
        " '10032': 3,\n",
        " '10033': 3,\n",
        " '10034': 3,\n",
        " '10035': 3,\n",
        " '10036': 3,\n",
        " '10037': 3,\n",
        " '10038': 3,\n",
        " '10039': 3,\n",
        " '10040': 3,\n",
        " '10044': 3,\n",
        " '10048': 3,\n",
        " '10065': 3,\n",
        " '10069': 3,\n",
        " '10075': 3,\n",
        " '10111': 3,\n",
        " '10115': 3,\n",
        " '10128': 3,\n",
        " '10280': 3,\n",
        " '10281': 3,\n",
        " '10282': 3,\n",
        " '10301': 5,\n",
        " '10302': 5,\n",
        " '10303': 5,\n",
        " '10304': 5,\n",
        " '10305': 5,\n",
        " '10306': 5,\n",
        " '10307': 5,\n",
        " '10308': 5,\n",
        " '10309': 5,\n",
        " '10310': 5,\n",
        " '10312': 5,\n",
        " '10314': 5,\n",
        " '10451': 1,\n",
        " '10452': 1,\n",
        " '10453': 1,\n",
        " '10454': 1,\n",
        " '10455': 1,\n",
        " '10456': 1,\n",
        " '10457': 1,\n",
        " '10458': 1,\n",
        " '10459': 1,\n",
        " '10460': 1,\n",
        " '10461': 1,\n",
        " '10462': 1,\n",
        " '10465': 1,\n",
        " '10466': 1,\n",
        " '10467': 1,\n",
        " '10468': 1,\n",
        " '10469': 1,\n",
        " '10470': 1,\n",
        " '10471': 1,\n",
        " '10472': 1,\n",
        " '10473': 1,\n",
        " '10474': 1,\n",
        " '10475': 1,\n",
        " '11001': 4,\n",
        " '11004': 4,\n",
        " '11005': 4,\n",
        " '11040': 4,\n",
        " '11096': 4,\n",
        " '11101': 4,\n",
        " '11102': 4,\n",
        " '11103': 4,\n",
        " '11104': 4,\n",
        " '11105': 4,\n",
        " '11106': 4,\n",
        " '11109': 4,\n",
        " '11201': 2,\n",
        " '11203': 2,\n",
        " '11204': 2,\n",
        " '11205': 2,\n",
        " '11206': 2,\n",
        " '11207': 2,\n",
        " '11208': 2,\n",
        " '11209': 2,\n",
        " '11210': 2,\n",
        " '11211': 2,\n",
        " '11212': 2,\n",
        " '11213': 2,\n",
        " '11214': 2,\n",
        " '11215': 2,\n",
        " '11216': 2,\n",
        " '11217': 2,\n",
        " '11218': 2,\n",
        " '11219': 2,\n",
        " '11220': 2,\n",
        " '11221': 2,\n",
        " '11222': 2,\n",
        " '11223': 2,\n",
        " '11224': 2,\n",
        " '11225': 2,\n",
        " '11226': 2,\n",
        " '11228': 2,\n",
        " '11229': 2,\n",
        " '11230': 2,\n",
        " '11231': 2,\n",
        " '11232': 2,\n",
        " '11233': 2,\n",
        " '11234': 2,\n",
        " '11235': 2,\n",
        " '11236': 2,\n",
        " '11237': 2,\n",
        " '11238': 2,\n",
        " '11239': 2,\n",
        " '11251': 2,\n",
        " '11354': 4,\n",
        " '11355': 4,\n",
        " '11356': 4,\n",
        " '11357': 4,\n",
        " '11358': 4,\n",
        " '11359': 4,\n",
        " '11360': 4,\n",
        " '11361': 4,\n",
        " '11362': 4,\n",
        " '11363': 4,\n",
        " '11364': 4,\n",
        " '11365': 4,\n",
        " '11366': 4,\n",
        " '11367': 4,\n",
        " '11368': 4,\n",
        " '11369': 4,\n",
        " '11371': 4,\n",
        " '11372': 4,\n",
        " '11373': 4,\n",
        " '11374': 4,\n",
        " '11375': 4,\n",
        " '11377': 4,\n",
        " '11378': 4,\n",
        " '11379': 4,\n",
        " '11385': 4,\n",
        " '11411': 4,\n",
        " '11412': 4,\n",
        " '11413': 4,\n",
        " '11414': 4,\n",
        " '11415': 4,\n",
        " '11416': 4,\n",
        " '11417': 4,\n",
        " '11418': 4,\n",
        " '11419': 4,\n",
        " '11420': 4,\n",
        " '11421': 4,\n",
        " '11422': 4,\n",
        " '11423': 4,\n",
        " '11426': 4,\n",
        " '11427': 4,\n",
        " '11428': 4,\n",
        " '11429': 4,\n",
        " '11430': 4,\n",
        " '11432': 4,\n",
        " '11433': 4,\n",
        " '11434': 4,\n",
        " '11435': 4,\n",
        " '11436': 4,\n",
        " '11451': 4,\n",
        " '11691': 4,\n",
        " '11692': 4,\n",
        " '11694': 4,\n",
        " '11697': 4}"
       ]
      }
     ],
     "prompt_number": 257
    },
    {
     "cell_type": "heading",
     "level": 6,
     "metadata": {},
     "source": [
      "Plot with borough colors"
     ]
    },
    {
     "cell_type": "code",
     "collapsed": false,
     "input": [
      "bors = []\n",
      "for z in zip_pop_count['zip']:\n",
      "    if z in zipbor_d:\n",
      "        bors.append(zipbor_d[z])\n",
      "    else:\n",
      "        bors.append(6)\n",
      "zip_pop_count['borough'] = bors\n",
      "inv_bors = [1.0/bor for bor in bors]\n",
      "fig, ax = plt.subplots(figsize=(10, 5))\n",
      "colors = [k * 1.0/len(boroughs.keys()) for k in range(len(boroughs.keys()) + 2)]\n",
      "for borough, borough_num in boroughs.iteritems():\n",
      "    ax.scatter(zip_pop_count['population'][zip_pop_count['borough'] == borough_num],\n",
      "               zip_pop_count['complaints'][zip_pop_count['borough'] == borough_num],\n",
      "               lw = 0,\n",
      "               c = cm.Dark2(colors[borough_num]),\n",
      "               label = borough,\n",
      "               s = 30)\n",
      "ax.set_xlabel('2010 census population')\n",
      "ax.set_ylabel('Number of 311 complaints')\n",
      "ax.set_title('311 Complaints by Zip Code')\n",
      "ax.legend(loc = 'best')\n",
      "plt.show()"
     ],
     "language": "python",
     "metadata": {},
     "outputs": [
      {
       "metadata": {},
       "output_type": "display_data",
       "png": "[encoded data removed]",
       "text": [
        "<matplotlib.figure.Figure at 0x13802b810>"
       ]
      }
     ],
     "prompt_number": 306
    },
    {
     "cell_type": "code",
     "collapsed": false,
     "input": [],
     "language": "python",
     "metadata": {},
     "outputs": [],
     "prompt_number": 306
    },
    {
     "cell_type": "code",
     "collapsed": false,
     "input": [],
     "language": "python",
     "metadata": {},
     "outputs": [],
     "prompt_number": 306
    },
    {
     "cell_type": "code",
     "collapsed": false,
     "input": [],
     "language": "python",
     "metadata": {},
     "outputs": [],
     "prompt_number": 306
    },
    {
     "cell_type": "code",
     "collapsed": false,
     "input": [],
     "language": "python",
     "metadata": {},
     "outputs": [],
     "prompt_number": 306
    },
    {
     "cell_type": "code",
     "collapsed": false,
     "input": [],
     "language": "python",
     "metadata": {},
     "outputs": []
    }
   ],
   "metadata": {}
  }
 ]
}