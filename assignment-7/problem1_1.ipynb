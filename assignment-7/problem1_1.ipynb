{
 "metadata": {
  "name": "",
  "signature": "sha256:87b9338e939fdc20804c44c5836a5e4c65b95c9873e9d8f3fd438482c5735040"
 },
 "nbformat": 3,
 "nbformat_minor": 0,
 "worksheets": [
  {
   "cells": [
    {
     "cell_type": "code",
     "collapsed": false,
     "input": [
      "import numpy as np\n",
      "from matplotlib import pyplot as plt\n",
      "import pylab\n",
      "import pandas as pd\n",
      "from datetime import datetime\n",
      "import sys\n",
      "import matplotlib.cm as cm\n",
      "import re\n",
      "\n",
      "### settings\n",
      "%matplotlib inline"
     ],
     "language": "python",
     "metadata": {},
     "outputs": [],
     "prompt_number": 1
    },
    {
     "cell_type": "heading",
     "level": 6,
     "metadata": {},
     "source": [
      "Functions"
     ]
    },
    {
     "cell_type": "code",
     "collapsed": false,
     "input": [
      "def top_k_types(df, k):\n",
      "    \"\"\" returns a series of top k complaint types \"\"\"\n",
      "    grouped = df['Complaint Type'].groupby(df['Complaint Type'])\n",
      "    complaints = grouped.count().sort(inplace = False, ascending = False)\n",
      "    return complaints[0:k]\n",
      "\n",
      "def top_k_agencies(df, k):\n",
      "    \"\"\" returns a series of top k agencies by number of complaints \"\"\"\n",
      "    grouped = df['Agency'].groupby(df['Agency'])\n",
      "    complaints = grouped.count().sort(inplace = False, ascending = False)\n",
      "    return list(complaints.keys())[0:k]\n",
      "\n",
      "def get_first_monday(dates):\n",
      "    \"\"\" returns the index of the first monday in a list of dates \"\"\"\n",
      "    return 7%dates[0].weekday()\n",
      "\n",
      "def complaint_tseries_agency(df, agencies):\n",
      "    \"\"\" plots something \"\"\"\n",
      "    dates = list( ag_date_counts.keys().levels[1] )\n",
      "    first_monday = get_first_monday(dates)\n",
      "    num_weeks = len(dates)/7\n",
      "    print num_weeks\n",
      "    xticks = [first_monday + 7 * x for x in range(num_weeks)]\n",
      "    fig, ax = subplots(figsize = (10, 5))\n",
      "    print type(ag_date_counts.keys())\n",
      "    colors = list(np.linspace(0, 1, len(agencies) + 2))[1:-1]\n",
      "    print colors\n",
      "    for i, agency in enumerate(agencies):\n",
      "        ax.plot(ag_date_counts[agency], c = cm.Set1(colors[i]), label = agency)\n",
      "    ax.set_xlabel(\"Date\")\n",
      "    ax.set_ylabel(\"Number of complaints\")\n",
      "    ax.grid(b=True, which='major', axis = 'x', color='gray', linestyle='--')\n",
      "    ax.legend(loc = 'best')\n",
      "    ax.set_xticks(xticks)\n",
      "    ticklabels = [datetime.strftime(dates[xtick], \"%m/%d\") for xtick in xticks]\n",
      "    ax.set_xticklabels(ticklabels)\n",
      "    daterange = (datetime.strftime(dates[0], \"%m/%d/%Y\"), datetime.strftime(dates[-1], \"%m/%d/%Y\"))\n",
      "    ax.set_title(\"Complaint volumes by agency %s - %s\" %daterange)\n",
      "    plt.show()"
     ],
     "language": "python",
     "metadata": {},
     "outputs": [],
     "prompt_number": 2
    },
    {
     "cell_type": "code",
     "collapsed": false,
     "input": [
      "### read data\n",
      "### reading is slow due to parsing two columns as datetime\n",
      "in_file = \"311_Service_Requests_from_2010_to_Present.csv\"\n",
      "with open(in_file, 'r') as f:\n",
      "    df = pd.read_csv(f,\n",
      "                     index_col = ['Unique Key'],\n",
      "                     dtype = {'Incident Zip': str})\n",
      "                     #parse_dates=['Created Date','Closed Date'])"
     ],
     "language": "python",
     "metadata": {},
     "outputs": [],
     "prompt_number": 3
    },
    {
     "cell_type": "heading",
     "level": 6,
     "metadata": {},
     "source": [
      "Min and max dates"
     ]
    },
    {
     "cell_type": "code",
     "collapsed": false,
     "input": [
      "# ### Use this block if dates are parsed in data frame\n",
      "# datemin = min(df['Created Date'])\n",
      "# datemax = max(df['Created Date'])\n",
      "# datemin_str = datetime.strftime(datemin, \"%b/%d/%Y\")\n",
      "# datemax_str = datetime.strftime(datemax, \"%b/%d/%Y\")\n",
      "datemin_str = \"Jun/01/2013\"\n",
      "datemax_str = \"Aug/31/2013\""
     ],
     "language": "python",
     "metadata": {},
     "outputs": [],
     "prompt_number": 4
    },
    {
     "cell_type": "heading",
     "level": 6,
     "metadata": {},
     "source": [
      "Grouping"
     ]
    },
    {
     "cell_type": "code",
     "collapsed": false,
     "input": [
      "grouped = df['Agency'].groupby(df['Agency'])\n",
      "pr1_1 = grouped.count()"
     ],
     "language": "python",
     "metadata": {},
     "outputs": [],
     "prompt_number": 5
    },
    {
     "cell_type": "code",
     "collapsed": false,
     "input": [
      "### Problem 1\n",
      "pr1_agencies = ['NYPD','DOT','DOB','TLC','DPR']"
     ],
     "language": "python",
     "metadata": {},
     "outputs": [],
     "prompt_number": 6
    },
    {
     "cell_type": "code",
     "collapsed": false,
     "input": [
      "fig, ax = plt.subplots(figsize = (10, 5))\n",
      "xpos = range(len(pr1_agencies))\n",
      "plt.bar(xpos, pr1_1[pr1_agencies], align = 'center', color = cm.Blues(0.4), zorder = 3)\n",
      "ax.set_xticks(xpos)\n",
      "ax.set_xlabel(\"Agency\")\n",
      "yticks = [int(x) for x in ax.get_yticks()]\n",
      "ax.set_yticklabels(yticks, fontsize = 8)\n",
      "ax.set_ylabel(\"Volume\")\n",
      "ax.set_title(\"Complaint volumes by agency between %s - %s\" %(datemin_str, datemax_str), fontsize = 9)\n",
      "ax.set_xticklabels( pr1_agencies, fontsize = 9)\n",
      "ax.grid(b=True, which='major', axis = 'y', color='gray', linestyle='--', alpha = 0.4, zorder = 0)\n",
      "xlims = ax.get_xlim()\n",
      "ax.set_xlim(-.75, len(pr1_agencies)-.25)\n",
      "plt.show()"
     ],
     "language": "python",
     "metadata": {},
     "outputs": [
      {
       "metadata": {},
       "output_type": "display_data",
       "png": "[encoded data removed]",
       "text": [
        "<matplotlib.figure.Figure at 0x10e626510>"
       ]
      }
     ],
     "prompt_number": 7
    }
   ],
   "metadata": {}
  }
 ]
}